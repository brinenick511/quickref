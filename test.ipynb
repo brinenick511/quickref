{
 "cells": [
  {
   "cell_type": "code",
   "execution_count": null,
   "id": "0d95bb80",
   "metadata": {},
   "outputs": [],
   "source": [
    "import os\n",
    "os.environ['CUDA_VISIBLE_DEVICES']='3'\n",
    "import torch\n",
    "from transformers import AutoModelForCausalLM, AutoTokenizer\n",
    "from tqdm import tqdm\n",
    "\n",
    "model_path='/data/yanghq/models/deepseek-ai/DeepSeek-V2-Lite'\n",
    "model_path='/data/yanghq/models/allenai/OLMoE-1B-7B-0125-Instruct'\n",
    "model = AutoModelForCausalLM.from_pretrained(model_path,device_map='auto',trust_remote_code=True,torch_dtype=torch.bfloat16)\n",
    "tokenizer = AutoTokenizer.from_pretrained(model_path,trust_remote_code=True,)\n",
    "\n",
    "def gen(model,tokenizer,device='cuda:0'):\n",
    "    input_text = \"Once upon a time, \"\n",
    "    inputs = tokenizer(input_text, return_tensors=\"pt\").to(device)\n",
    "    with torch.no_grad():\n",
    "        outputs = model.generate(inputs['input_ids'], max_new_tokens = 20, num_return_sequences=1, do_sample=False,)\n",
    "    generated_text = tokenizer.decode(outputs[0], skip_special_tokens=True)\n",
    "    print('\\n',generated_text,'\\n')\n",
    "\n",
    "gen(model,tokenizer)\n"
   ]
  }
 ],
 "metadata": {
  "language_info": {
   "name": "python"
  }
 },
 "nbformat": 4,
 "nbformat_minor": 5
}
